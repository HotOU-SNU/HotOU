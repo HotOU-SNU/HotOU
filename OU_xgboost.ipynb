{
 "cells": [
  {
   "cell_type": "code",
   "execution_count": 278,
   "metadata": {
    "collapsed": false
   },
   "outputs": [],
   "source": [
    "# __original_author__ =  'Humberto Brandão'\n",
    "#__tweak__ = 'Team Monami'\n",
    "import pandas as pd\n",
    "import xgboost as xgb\n",
    "import pickle as pkl\n",
    "import numpy as np\n",
    "\n",
    "# from matplotlib import pylab as plt\n",
    "# import operator\n",
    "\n",
    "# Load data and roughly clean it, then sort as game date\n",
    "with open('df_test.pkl', 'rb') as f:\n",
    "    df = pkl.load(f)\n",
    "    \n",
    "# df.drop(['game_event_id', 'game_id', 'lat', 'lon', 'team_id', 'team_name'], axis=1, inplace=True)\n",
    "# df.sort_values('game_date',  inplace=True)\n",
    "mask = np.random.rand(len(df)) < 0.2 #mask for training set"
   ]
  },
  {
   "cell_type": "code",
   "execution_count": 280,
   "metadata": {
    "collapsed": false
   },
   "outputs": [
    {
     "data": {
      "text/plain": [
       "Index(['freeboard_1377351', 'freeboard_1309879', 'freeboard_1331187',\n",
       "       'freeboard_1255886', 'freeboard_1240142', 'freeboard_1346887',\n",
       "       'freeboard_1345544', 'freeboard_1256458', 'freeboard_1249492',\n",
       "       'freeboard_1341092',\n",
       "       ...\n",
       "       'star_377869', 'star_351447', 'star_355807', 'star_359453',\n",
       "       'star_357915', 'star_369784', 'star_351841', 'star_385072',\n",
       "       'star_388428', 'star_379388'],\n",
       "      dtype='object', name='contentID', length=45471)"
      ]
     },
     "execution_count": 280,
     "metadata": {},
     "output_type": "execute_result"
    }
   ],
   "source": [
    "df.index"
   ]
  },
  {
   "cell_type": "code",
   "execution_count": 281,
   "metadata": {
    "collapsed": false,
    "scrolled": true
   },
   "outputs": [],
   "source": [
    "# Clean data\n",
    "# actiontypes = dict(df.action_type.value_counts())\n",
    "# df['type'] = df.apply(lambda row: row['action_type'] if actiontypes[row['action_type']] > 25 else 'others', axis=1)\n",
    "# df.drop(['action_type', 'combined_shot_type'], axis=1, inplace=True)\n",
    "\n",
    "# df['away'] = df.matchup.str.contains('@')\n",
    "# df.drop('matchup', axis=1, inplace=True)\n",
    "\n",
    "# df['distance'] = df.apply(lambda row: row['shot_distance'] if row['shot_distance'] <45 else 45, axis=1)\n",
    "# df['time_remaining'] = df.apply(lambda row: row['minutes_remaining'] * 60 + row['seconds_remaining'], axis=1)\n",
    "# df['last_moments'] = df.apply(lambda row: 1 if row['time_remaining'] < 3 else 0, axis=1)\n",
    "\n",
    "# data = pd.get_dummies(df['type'],prefix=\"action_type\")\n",
    "\n",
    "# features=[\"away\", \"period\", \"playoffs\", \"shot_type\", \"shot_zone_area\", \"shot_zone_basic\", \"season\",\n",
    "#            \"shot_zone_range\", \"opponent\", \"last_moments\"]\n",
    "# for f in features:\n",
    "#     data = pd.concat([data, pd.get_dummies(df[f], prefix=f),], axis=1)\n",
    "# data = pd.concat([data, df['distance'],], axis=1)\n",
    "\n",
    "features = ['normalPostCount', 'bestPostCount', 'BOBPostCount', 'okIn900s', 'memoIn900s', 'imgCount', 'youtubeCount', 'videoCount', \n",
    "            'writerVisitingCount','prohibitBOBOption', 'textLineCount']\n",
    "features += ['morning', 'noon', 'evening', 'night']\n",
    "\n",
    "data = df[features].copy()\n",
    "data.rename(columns=lambda x: x.replace(\" \",\"\"),inplace=True)\n",
    "\n",
    "X = data[~mask]\n",
    "y = df.isBOB[~mask]\n",
    "# y = df.viewCount[~mask]\n",
    "\n",
    "dtrain=xgb.DMatrix(data=X, label=y, missing =None)"
   ]
  },
  {
   "cell_type": "code",
   "execution_count": 286,
   "metadata": {
    "collapsed": false
   },
   "outputs": [
    {
     "ename": "KeyboardInterrupt",
     "evalue": "",
     "output_type": "error",
     "traceback": [
      "\u001b[0;31m-------------------------------------------------------------------------\u001b[0m",
      "\u001b[0;31mKeyboardInterrupt\u001b[0m                       Traceback (most recent call last)",
      "\u001b[0;32m<ipython-input-286-d5cc3b15382e>\u001b[0m in \u001b[0;36m<module>\u001b[0;34m()\u001b[0m\n\u001b[1;32m     14\u001b[0m                 \u001b[0mmaximize\u001b[0m                 \u001b[0;34m=\u001b[0m \u001b[0;32mFalse\u001b[0m\u001b[0;34m,\u001b[0m\u001b[0;34m\u001b[0m\u001b[0m\n\u001b[1;32m     15\u001b[0m                 \u001b[0mnfold\u001b[0m                       \u001b[0;34m=\u001b[0m \u001b[0;36m5\u001b[0m\u001b[0;34m,\u001b[0m\u001b[0;34m\u001b[0m\u001b[0m\n\u001b[0;32m---> 16\u001b[0;31m                 \u001b[0mearly_stopping_rounds\u001b[0m  \u001b[0;34m=\u001b[0m \u001b[0;36m20\u001b[0m\u001b[0;34m\u001b[0m\u001b[0m\n\u001b[0m\u001b[1;32m     17\u001b[0m );\n\u001b[1;32m     18\u001b[0m \u001b[0mprint\u001b[0m\u001b[0;34m(\u001b[0m\u001b[0mclf\u001b[0m\u001b[0;34m[\u001b[0m\u001b[0;34m[\u001b[0m\u001b[0;36m0\u001b[0m\u001b[0;34m]\u001b[0m\u001b[0;34m]\u001b[0m\u001b[0;34m.\u001b[0m\u001b[0mmin\u001b[0m\u001b[0;34m(\u001b[0m\u001b[0;36m0\u001b[0m\u001b[0;34m)\u001b[0m\u001b[0;34m)\u001b[0m\u001b[0;34m\u001b[0m\u001b[0m\n",
      "\u001b[0;32m/home/muncok/venv/hcid/lib/python3.4/site-packages/xgboost/training.py\u001b[0m in \u001b[0;36mcv\u001b[0;34m(params, dtrain, num_boost_round, nfold, stratified, folds, metrics, obj, feval, maximize, early_stopping_rounds, fpreproc, as_pandas, verbose_eval, show_stdv, seed, callbacks)\u001b[0m\n\u001b[1;32m    398\u001b[0m                            evaluation_result_list=None))\n\u001b[1;32m    399\u001b[0m         \u001b[0;32mfor\u001b[0m \u001b[0mfold\u001b[0m \u001b[0;32min\u001b[0m \u001b[0mcvfolds\u001b[0m\u001b[0;34m:\u001b[0m\u001b[0;34m\u001b[0m\u001b[0m\n\u001b[0;32m--> 400\u001b[0;31m             \u001b[0mfold\u001b[0m\u001b[0;34m.\u001b[0m\u001b[0mupdate\u001b[0m\u001b[0;34m(\u001b[0m\u001b[0mi\u001b[0m\u001b[0;34m,\u001b[0m \u001b[0mobj\u001b[0m\u001b[0;34m)\u001b[0m\u001b[0;34m\u001b[0m\u001b[0m\n\u001b[0m\u001b[1;32m    401\u001b[0m         \u001b[0mres\u001b[0m \u001b[0;34m=\u001b[0m \u001b[0maggcv\u001b[0m\u001b[0;34m(\u001b[0m\u001b[0;34m[\u001b[0m\u001b[0mf\u001b[0m\u001b[0;34m.\u001b[0m\u001b[0meval\u001b[0m\u001b[0;34m(\u001b[0m\u001b[0mi\u001b[0m\u001b[0;34m,\u001b[0m \u001b[0mfeval\u001b[0m\u001b[0;34m)\u001b[0m \u001b[0;32mfor\u001b[0m \u001b[0mf\u001b[0m \u001b[0;32min\u001b[0m \u001b[0mcvfolds\u001b[0m\u001b[0;34m]\u001b[0m\u001b[0;34m)\u001b[0m\u001b[0;34m\u001b[0m\u001b[0m\n\u001b[1;32m    402\u001b[0m \u001b[0;34m\u001b[0m\u001b[0m\n",
      "\u001b[0;32m/home/muncok/venv/hcid/lib/python3.4/site-packages/xgboost/training.py\u001b[0m in \u001b[0;36mupdate\u001b[0;34m(self, iteration, fobj)\u001b[0m\n\u001b[1;32m    217\u001b[0m     \u001b[0;32mdef\u001b[0m \u001b[0mupdate\u001b[0m\u001b[0;34m(\u001b[0m\u001b[0mself\u001b[0m\u001b[0;34m,\u001b[0m \u001b[0miteration\u001b[0m\u001b[0;34m,\u001b[0m \u001b[0mfobj\u001b[0m\u001b[0;34m)\u001b[0m\u001b[0;34m:\u001b[0m\u001b[0;34m\u001b[0m\u001b[0m\n\u001b[1;32m    218\u001b[0m         \u001b[0;34m\"\"\"\"Update the boosters for one iteration\"\"\"\u001b[0m\u001b[0;34m\u001b[0m\u001b[0m\n\u001b[0;32m--> 219\u001b[0;31m         \u001b[0mself\u001b[0m\u001b[0;34m.\u001b[0m\u001b[0mbst\u001b[0m\u001b[0;34m.\u001b[0m\u001b[0mupdate\u001b[0m\u001b[0;34m(\u001b[0m\u001b[0mself\u001b[0m\u001b[0;34m.\u001b[0m\u001b[0mdtrain\u001b[0m\u001b[0;34m,\u001b[0m \u001b[0miteration\u001b[0m\u001b[0;34m,\u001b[0m \u001b[0mfobj\u001b[0m\u001b[0;34m)\u001b[0m\u001b[0;34m\u001b[0m\u001b[0m\n\u001b[0m\u001b[1;32m    220\u001b[0m \u001b[0;34m\u001b[0m\u001b[0m\n\u001b[1;32m    221\u001b[0m     \u001b[0;32mdef\u001b[0m \u001b[0meval\u001b[0m\u001b[0;34m(\u001b[0m\u001b[0mself\u001b[0m\u001b[0;34m,\u001b[0m \u001b[0miteration\u001b[0m\u001b[0;34m,\u001b[0m \u001b[0mfeval\u001b[0m\u001b[0;34m)\u001b[0m\u001b[0;34m:\u001b[0m\u001b[0;34m\u001b[0m\u001b[0m\n",
      "\u001b[0;32m/home/muncok/venv/hcid/lib/python3.4/site-packages/xgboost/core.py\u001b[0m in \u001b[0;36mupdate\u001b[0;34m(self, dtrain, iteration, fobj)\u001b[0m\n\u001b[1;32m    804\u001b[0m \u001b[0;34m\u001b[0m\u001b[0m\n\u001b[1;32m    805\u001b[0m         \u001b[0;32mif\u001b[0m \u001b[0mfobj\u001b[0m \u001b[0;32mis\u001b[0m \u001b[0;32mNone\u001b[0m\u001b[0;34m:\u001b[0m\u001b[0;34m\u001b[0m\u001b[0m\n\u001b[0;32m--> 806\u001b[0;31m             \u001b[0m_check_call\u001b[0m\u001b[0;34m(\u001b[0m\u001b[0m_LIB\u001b[0m\u001b[0;34m.\u001b[0m\u001b[0mXGBoosterUpdateOneIter\u001b[0m\u001b[0;34m(\u001b[0m\u001b[0mself\u001b[0m\u001b[0;34m.\u001b[0m\u001b[0mhandle\u001b[0m\u001b[0;34m,\u001b[0m \u001b[0miteration\u001b[0m\u001b[0;34m,\u001b[0m \u001b[0mdtrain\u001b[0m\u001b[0;34m.\u001b[0m\u001b[0mhandle\u001b[0m\u001b[0;34m)\u001b[0m\u001b[0;34m)\u001b[0m\u001b[0;34m\u001b[0m\u001b[0m\n\u001b[0m\u001b[1;32m    807\u001b[0m         \u001b[0;32melse\u001b[0m\u001b[0;34m:\u001b[0m\u001b[0;34m\u001b[0m\u001b[0m\n\u001b[1;32m    808\u001b[0m             \u001b[0mpred\u001b[0m \u001b[0;34m=\u001b[0m \u001b[0mself\u001b[0m\u001b[0;34m.\u001b[0m\u001b[0mpredict\u001b[0m\u001b[0;34m(\u001b[0m\u001b[0mdtrain\u001b[0m\u001b[0;34m)\u001b[0m\u001b[0;34m\u001b[0m\u001b[0m\n",
      "\u001b[0;31mKeyboardInterrupt\u001b[0m: "
     ]
    }
   ],
   "source": [
    "param ={   'objective'             : \"binary:logistic\",\n",
    "                'booster'               : \"gbtree\",\n",
    "                'eval_metric'          : \"logloss\",\n",
    "                'eta'                      : 0.012,\n",
    "                'max_depth'           : 10,\n",
    "                'subsample'           : 0.82,\n",
    "                'colsample_bytree'  : 0.60,\n",
    "                'seed'                    : 1,\n",
    "                'silent'                   : 0\n",
    "}\n",
    "clf = xgb.cv(   params               = param,\n",
    "                dtrain                      = dtrain,\n",
    "                num_boost_round    = 1000,\n",
    "                maximize                 = False,\n",
    "                nfold                       = 5,\n",
    "                early_stopping_rounds  = 20\n",
    ");\n",
    "print(clf[[0]].min(0))\n",
    "bestround = clf[[0]].idxmin(0)[0]"
   ]
  },
  {
   "cell_type": "code",
   "execution_count": null,
   "metadata": {
    "collapsed": false
   },
   "outputs": [],
   "source": [
    "# param ={   'objective'                : \"reg:linear\",\n",
    "#                 'booster'             : \"gbtree\",\n",
    "#                 'eval_metric'         : \"rmse\",\n",
    "#                 'eta'                 : 0.012,\n",
    "#                 'max_depth'           : 10,\n",
    "#                 'subsample'           : 0.82,\n",
    "#                 'colsample_bytree'    : 0.60,\n",
    "#                 'seed'                : 1,\n",
    "#                 'silent'              : 0\n",
    "# }\n",
    "# clf = xgb.cv(   params               = param,\n",
    "#                 dtrain                      = dtrain,\n",
    "#                 num_boost_round    = 1000,\n",
    "#                 maximize                 = False,\n",
    "#                 nfold                       = 5,\n",
    "#                 early_stopping_rounds  = 20\n",
    "# );\n",
    "# print(clf[[0]].min(0))\n",
    "# bestround = clf[[0]].idxmin(0)[0]"
   ]
  },
  {
   "cell_type": "code",
   "execution_count": null,
   "metadata": {
    "collapsed": true
   },
   "outputs": [],
   "source": [
    "bst = xgb.train(  params                    = param,\n",
    "                        dtrain                       = dtrain,\n",
    "                        num_boost_round     = bestround,\n",
    "                        verbose_eval            = 1,\n",
    "                        maximize                  = False\n",
    ")"
   ]
  },
  {
   "cell_type": "code",
   "execution_count": null,
   "metadata": {
    "collapsed": false
   },
   "outputs": [],
   "source": [
    "test_X = data[mask]\n",
    "test_y = df[mask][\"isBOB\"]\n",
    "dtest =xgb.DMatrix(data=test_X, missing =None)\n",
    "preds = bst.predict(dtest)\n",
    "# submission = pd.DataFrame({\"shot_id\": target_id, \"shot_made_flag\": preds})\n",
    "# submission = submission.sort_values('shot_id')\n",
    "# submission.to_csv(\"submit_xgboost_ref.csv\", index=False)\n",
    "\n",
    "\n",
    "# def ceate_feature_map(features):\n",
    "    # outfile = open('xgb.fmap', 'w')\n",
    "    # i = 0\n",
    "    # for feat in features:\n",
    "        # outfile.write('{0}\\t{1}\\tq\\n'.format(i, feat))\n",
    "        # i = i + 1\n",
    "    # outfile.close()\n",
    "\n",
    "# ceate_feature_map(list(X.columns))\n",
    "# # ceate_feature_map(features)\n",
    "# importance = bst.get_fscore(fmap='xgb.fmap')\n",
    "# importance = sorted(importance.items(), key=operator.itemgetter(1))\n",
    "\n",
    "# df = pd.DataFrame(importance, columns=['feature', 'fscore'])\n",
    "# df['fscore'] = df['fscore'] / df['fscore'].sum()\n",
    "\n",
    "# plt.figure()\n",
    "# df.plot()\n",
    "# df.plot(kind='barh', x='feature', y='fscore', legend=False, figsize=(25, 30))\n",
    "# plt.title('XGBoost Feature Importance')\n",
    "# plt.xlabel('relative importance')\n",
    "# plt.gcf().savefig('feature_importance_xgb.png')"
   ]
  },
  {
   "cell_type": "code",
   "execution_count": null,
   "metadata": {
    "collapsed": false
   },
   "outputs": [],
   "source": [
    "from  sklearn.metrics import confusion_matrix\n",
    "confusion_matrix(test_y.values, preds > 0.5)"
   ]
  },
  {
   "cell_type": "code",
   "execution_count": null,
   "metadata": {
    "collapsed": false
   },
   "outputs": [],
   "source": [
    "(p[0][0] + p[1][1])/ np.sum(p)"
   ]
  },
  {
   "cell_type": "markdown",
   "metadata": {
    "collapsed": false
   },
   "source": [
    "array([[6788,  338],\n",
    "       [ 900, 1127]])"
   ]
  },
  {
   "cell_type": "code",
   "execution_count": 277,
   "metadata": {
    "collapsed": false
   },
   "outputs": [
    {
     "name": "stdout",
     "output_type": "stream",
     "text": [
      "[[3956   15]\n",
      " [ 203   75]] 0.948693810308\n",
      "[[4159   90]\n",
      " [   0    0]]\n"
     ]
    }
   ],
   "source": [
    "########  SVM\n",
    "from sklearn import svm\n",
    "clf = svm.SVC()\n",
    "\n",
    "clf.fit(X,y)\n",
    "\n",
    "score = clf.score(test_X,test_y)\n",
    "y_predict = clf.predict(test_X)\n",
    "y_All_no = np.zeros(len(test_y))\n",
    "print(confusion_matrix(test_y, y_predict), score)\n",
    "print(confusion_matrix(y_All_no, y_predict))\n",
    "#df_all_new = pd.concat([df_all,df_all_timeZone], axis = 1)"
   ]
  },
  {
   "cell_type": "code",
   "execution_count": null,
   "metadata": {
    "collapsed": true
   },
   "outputs": [],
   "source": []
  }
 ],
 "metadata": {
  "kernelspec": {
   "display_name": "Python 3",
   "language": "python",
   "name": "python3"
  },
  "language_info": {
   "codemirror_mode": {
    "name": "ipython",
    "version": 3
   },
   "file_extension": ".py",
   "mimetype": "text/x-python",
   "name": "python",
   "nbconvert_exporter": "python",
   "pygments_lexer": "ipython3",
   "version": "3.4.3"
  }
 },
 "nbformat": 4,
 "nbformat_minor": 2
}

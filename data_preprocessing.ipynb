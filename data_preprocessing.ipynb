{
 "cells": [
  {
   "cell_type": "code",
   "execution_count": 120,
   "metadata": {
    "collapsed": false
   },
   "outputs": [],
   "source": [
    "import pickle\n",
    "import pandas as pd\n",
    "import warnings\n",
    "warnings.filterwarnings('ignore')\n",
    "\n",
    "fileList = {\"freeboard\":\"pickles/freeboard_db.pkl\", \"humordata\":\"pickles/humordata_6047_db.pkl\", \"star\":\"pickles/star_db.pkl\",\n",
    "           \"sisa\":\"pickles/sisa_db.pkl\", \"best\":\"pickles/humorbest_db.pkl\", \"bestofbest\":\"pickles/bestofbest_db.pkl\"}\n",
    "dfs = {}\n",
    "for board in fileList.keys():\n",
    "    with open(fileList[board],\"rb\") as f :\n",
    "        dfs[board] = pd.DataFrame.from_dict(pickle.load(f)).set_index('contentID')\n",
    "\n"
   ]
  },
  {
   "cell_type": "code",
   "execution_count": 116,
   "metadata": {
    "collapsed": false
   },
   "outputs": [
    {
     "data": {
      "text/plain": [
       "dict_keys(['freeboard', 'humordata', 'best', 'bestofbest', 'sisa', 'star'])"
      ]
     },
     "execution_count": 116,
     "metadata": {},
     "output_type": "execute_result"
    }
   ],
   "source": [
    "fileList.keys()"
   ]
  },
  {
   "cell_type": "code",
   "execution_count": 134,
   "metadata": {
    "collapsed": false,
    "scrolled": true
   },
   "outputs": [],
   "source": [
    "df1 = pd.concat([df for df in dfs.values()], axis=0)\n",
    "df1 = df1[df1['writerVisitingCount'].str.contains('-') == False]\n",
    "#remove duplicate articles\n",
    "df = df1.reset_index().drop_duplicates(subset='contentID', keep='first').set_index('contentID')"
   ]
  },
  {
   "cell_type": "code",
   "execution_count": 135,
   "metadata": {
    "collapsed": false
   },
   "outputs": [
    {
     "data": {
      "text/plain": [
       "Index(['freeboard_1377351', 'freeboard_1309879', 'freeboard_1331187',\n",
       "       'freeboard_1255886', 'freeboard_1240142', 'freeboard_1346887',\n",
       "       'freeboard_1345544', 'freeboard_1256458', 'freeboard_1249492',\n",
       "       'freeboard_1341092',\n",
       "       ...\n",
       "       'star_343818', 'star_359453', 'star_357915', 'star_369784',\n",
       "       'star_375886', 'star_351841', 'star_384592', 'star_385072',\n",
       "       'star_388428', 'star_379388'],\n",
       "      dtype='object', name='contentID', length=47983)"
      ]
     },
     "execution_count": 135,
     "metadata": {},
     "output_type": "execute_result"
    }
   ],
   "source": [
    "df1.index"
   ]
  },
  {
   "cell_type": "code",
   "execution_count": 136,
   "metadata": {
    "collapsed": false
   },
   "outputs": [
    {
     "data": {
      "text/plain": [
       "Index(['freeboard_1377351', 'freeboard_1309879', 'freeboard_1331187',\n",
       "       'freeboard_1255886', 'freeboard_1240142', 'freeboard_1346887',\n",
       "       'freeboard_1345544', 'freeboard_1256458', 'freeboard_1249492',\n",
       "       'freeboard_1341092',\n",
       "       ...\n",
       "       'star_377869', 'star_351447', 'star_355807', 'star_359453',\n",
       "       'star_357915', 'star_369784', 'star_351841', 'star_385072',\n",
       "       'star_388428', 'star_379388'],\n",
       "      dtype='object', name='contentID', length=45471)"
      ]
     },
     "execution_count": 136,
     "metadata": {},
     "output_type": "execute_result"
    }
   ],
   "source": [
    "df.index"
   ]
  },
  {
   "cell_type": "code",
   "execution_count": 137,
   "metadata": {
    "collapsed": false
   },
   "outputs": [],
   "source": [
    "from datetime import datetime\n",
    "import operator\n",
    "import matplotlib.pyplot as plt\n",
    "import numpy as np\n",
    "from sklearn import datasets, linear_model\n",
    "from scipy.stats.stats import pearsonr\n",
    "from operator import truediv\n",
    "from sklearn import preprocessing\n",
    "from sklearn import svm\n",
    "from sklearn.model_selection import train_test_split\n",
    "from sklearn.metrics import confusion_matrix\n",
    "\n",
    "Index = ['contentID', 'writerName', 'writerSignInDate', 'writerVisitingCount',\n",
    "       'recommendCount', 'viewCount', 'memoCount', 'postTime',\n",
    "       'normalPostCount', 'bestPostCount', 'BOBPostCount', 'board', 'title',\n",
    "       'changjakOption', 'permOption', 'prohibitBestOption',\n",
    "       'prohibitBOBOption', 'prohibitBoninOption', 'prohibitOutsidePermOption',\n",
    "       'imgCount', 'videoCount', 'youtubeCount', 'textLineCount', 'bestTime',\n",
    "       'BoBTime', 'okTime', 'memoTime', 'okIn3600s', 'bad', 'good', 'rcmd',\n",
    "       'memoIn3600s']\n",
    "\n",
    "# datatype 정리\n",
    "for col in ['writerVisitingCount', 'viewCount', 'memoCount', 'normalPostCount', 'bestPostCount', 'BOBPostCount']:\n",
    "    df[col] = pd.to_numeric(df[col]).copy()\n",
    "\n",
    "\n",
    "######### 새로운 feature 추가\n",
    "# 게시물 중 베오베 비율\n",
    "X_BOBratio = list(map(truediv,X_BOBPostCount, X_normalPostCount))\n",
    "df['BOBratio'] = df.BOBPostCount / df.normalPostCount\n",
    "#  베오베 label\n",
    "df['isBOB'] = df.BoBTime.apply(lambda e: True if e != 0 else False)\n",
    "# 15분 이전의 추천과 댓글\n",
    "df['okIn900s'] = df.okTime.apply(lambda e : len(list(filter(lambda f: f<=900, e))))\n",
    "df['memoIn900s'] = df.memoTime.apply(lambda e : len(list(filter(lambda f: f<=900, e))))\n",
    "# 추천수 비추천수 분리\n",
    "df['bad'] = df.recommendCount.apply(lambda e: (e.split('/')[1]) if '/' in e else 0)\n",
    "df['good'] = df.recommendCount.apply(lambda e: (e.split('/')[0]) if '/' in e else e)\n",
    "df['rcmd'] = df.recommendCount.apply(lambda e: (e.split('/')[0]) if '/' not in e else int(e.split('/')[0]) - int(e.split('/')[1]))\n",
    "# df.drop('recommendCount', axis=1,inplace=True)\n",
    "# 시간대별로 나누는 과정 \n",
    "df['postHour'] = df.postTime.apply(lambda e: e.split(' ')[1].split(':')[0])\n",
    "df['timeZone'] = df.postHour.apply(lambda e: \"morning\" if int(e)>=3 and int(e)<9 else \"noon\" if int(e)>=9 and int(e)<15 else \"evening\" if int(e)>=15 and int(e)<21 else \"night\")\n",
    "df_timeZone = pd.get_dummies(df['timeZone'])\n",
    "df = pd.concat([df, df_timeZone,], axis=1,)\n",
    "\n",
    "######## 정규화 시키는 과정 scaler.fit(data).transform(data)로 정규화 \n",
    "scaler = preprocessing.StandardScaler()\n",
    "\n",
    "normalizing_cols = ['okIn900s', 'BOBratio', 'imgCount', 'youtubeCount', 'videoCount', 'writerVisitingCount', 'memoIn900s', \n",
    "                     'normalPostCount', 'bestPostCount', 'BOBPostCount', 'textLineCount',\n",
    "                    'viewCount', 'memoCount']\n",
    "integerize_cols = ['isBOB', 'changjakOption', 'permOption', 'prohibitBestOption', 'prohibitBOBOption', 'prohibitBoninOption', 'prohibitOutsidePermOption']\n",
    "\n",
    "for col in normalizing_cols:\n",
    "    df[col] =  scaler.fit(df[col]).transform(df[col])\n",
    "    \n",
    "for col in integerize_cols:\n",
    "    df[col] = df[col].apply(lambda e : 0 if e==False else 1)\n",
    "# df['okIn900s_normalized'] = scaler.fit(df['okIn900s']).transform(df['okIn900s'])\n",
    "# df['BOBratio_normalized'] = scaler.fit(df['BOBratio']).transform('BOBratio')\n",
    "# df['imgCount_normalized'] = scaler.fit(df['imgCount']).transform(df['imgCount'])\n",
    "# df['youtubeCount_normalized'] = scaler.fit(df['youtubeCount']).transform(df['youtubeCount'])\n",
    "# df['videoCount_normalized'] = scaler.fit(df['videoCount']).transform(df['videoCount'])\n",
    "# df['writerVisitingCount_normalized'] = scaler.fit(df['writerVisitingCount']).transform(df['writerVisitingCount'])\n",
    "# df['memoIn900s_normalized'] = scaler.fit(df['memoIn900s']).transform(df['memoIn900s'])\n",
    "# df['okIn900s_normalized'] = scaler.fit(df['okIn900s']).transform(df['okIn900s'])\n",
    "# df['imgCount_normalized'] = scaler.fit(df['imgCount']).transform(df['imgCount'])\n",
    "# df['youtubeCount_normalized'] = scaler.fit(df['youtubeCount']).transform(df['youtubeCount'])\n",
    "# df['videoCount_normalized'] = scaler.fit(df['videoCount']).transform(df['videoCount'])\n",
    "# df['normalPostCount_normalized'] = scaler.fit(df['normalPostCount']).transform(df['normalPostCount'])\n",
    "# df['bestPostCount_normalized'] = scaler.fit(df['bestPostCount']).transform(df['bestPostCount'])\n",
    "# df['BOBPostCount_normalized'] = scaler.fit(df['BOBPostCount']).transform(df['BOBPostCount'])\n",
    "# df['textLineCount_normalized'] = scaler.fit(df['textLineCount']).transform(df['textLineCount'])\n",
    "\n",
    "# df['isBOB'] = df.BoBTime.apply(lambda e: True if e != 0 else False)\n",
    "# df['changjakOption_integered'] = df['changjakOption'].apply(lambda e : -1 if e==False else 1)\n",
    "# df['permOption_integered'] = df['permOption'].apply(lambda e : -1 if e==False else 1)\n",
    "# df['prohibitBestOption_integered'] = df['prohibitBestOption'].apply(lambda e : -1 if e==False else 1)\n",
    "# df['prohibitBOBOption_integered'] = df['prohibitBOBOption'].apply(lambda e : -1 if e==False else 1)\n",
    "# df['prohibitBoninOption_integered'] = df['prohibitBoninOption'].apply(lambda e : -1 if e==False else 1)\n",
    "# df['prohibitOutsidePermOption_integered'] = df['prohibitOutsidePermOption'].apply(lambda e : -1 if e==False else 1)\n",
    "# df['changjakOption_integered'] = df['changjakOption'].apply(lambda e : 0 if e==False else 1)\n",
    "# df['permOption'] = df['permOption'].apply(lambda e : 0 if e==False else 1)\n",
    "# df['prohibitBestOption'] = df['prohibitBestOption'].apply(lambda e : 0 if e==False else 1)\n",
    "# df['prohibitBOBOption'] = df['prohibitBOBOption'].apply(lambda e : 0 if e==False else 1)\n",
    "# df['prohibitBoninOption'] = df['prohibitBoninOption'].apply(lambda e : 0 if e==False else 1)\n",
    "# df['prohibitOutsidePermOption'] = df['prohibitOutsidePermOption'].apply(lambda e : 0 if e==False else 1)\n",
    "# df['isBOB'] = df.BoBTime.apply(lambda e: True if e != 0 else False)"
   ]
  },
  {
   "cell_type": "code",
   "execution_count": 138,
   "metadata": {
    "collapsed": false
   },
   "outputs": [
    {
     "data": {
      "text/plain": [
       "writerName                    object\n",
       "writerSignInDate              object\n",
       "writerVisitingCount          float64\n",
       "recommendCount                object\n",
       "viewCount                    float64\n",
       "memoCount                    float64\n",
       "postTime                      object\n",
       "normalPostCount              float64\n",
       "bestPostCount                float64\n",
       "BOBPostCount                 float64\n",
       "board                         object\n",
       "title                         object\n",
       "changjakOption                 int64\n",
       "permOption                     int64\n",
       "prohibitBestOption             int64\n",
       "prohibitBOBOption              int64\n",
       "prohibitBoninOption            int64\n",
       "prohibitOutsidePermOption      int64\n",
       "imgCount                     float64\n",
       "videoCount                   float64\n",
       "youtubeCount                 float64\n",
       "textLineCount                float64\n",
       "bestTime                      object\n",
       "BoBTime                       object\n",
       "okTime                        object\n",
       "memoTime                      object\n",
       "BOBratio                     float64\n",
       "isBOB                          int64\n",
       "okIn900s                     float64\n",
       "memoIn900s                   float64\n",
       "bad                           object\n",
       "good                          object\n",
       "rcmd                          object\n",
       "postHour                      object\n",
       "timeZone                      object\n",
       "evening                        uint8\n",
       "morning                        uint8\n",
       "night                          uint8\n",
       "noon                           uint8\n",
       "dtype: object"
      ]
     },
     "execution_count": 138,
     "metadata": {},
     "output_type": "execute_result"
    }
   ],
   "source": [
    "df = df.loc[:,~df.columns.duplicated()]\n",
    "df.dtypes"
   ]
  },
  {
   "cell_type": "code",
   "execution_count": 139,
   "metadata": {
    "collapsed": false
   },
   "outputs": [
    {
     "data": {
      "text/plain": [
       "Index(['freeboard_1377351', 'freeboard_1309879', 'freeboard_1331187',\n",
       "       'freeboard_1255886', 'freeboard_1240142', 'freeboard_1346887',\n",
       "       'freeboard_1345544', 'freeboard_1256458', 'freeboard_1249492',\n",
       "       'freeboard_1341092',\n",
       "       ...\n",
       "       'star_377869', 'star_351447', 'star_355807', 'star_359453',\n",
       "       'star_357915', 'star_369784', 'star_351841', 'star_385072',\n",
       "       'star_388428', 'star_379388'],\n",
       "      dtype='object', name='contentID', length=45471)"
      ]
     },
     "execution_count": 139,
     "metadata": {},
     "output_type": "execute_result"
    }
   ],
   "source": [
    "df.index"
   ]
  },
  {
   "cell_type": "code",
   "execution_count": 140,
   "metadata": {
    "collapsed": true
   },
   "outputs": [],
   "source": [
    "df.to_pickle('df_test.pkl')"
   ]
  },
  {
   "cell_type": "code",
   "execution_count": null,
   "metadata": {
    "collapsed": true
   },
   "outputs": [],
   "source": []
  }
 ],
 "metadata": {
  "kernelspec": {
   "display_name": "Python 3",
   "language": "python",
   "name": "python3"
  },
  "language_info": {
   "codemirror_mode": {
    "name": "ipython",
    "version": 3
   },
   "file_extension": ".py",
   "mimetype": "text/x-python",
   "name": "python",
   "nbconvert_exporter": "python",
   "pygments_lexer": "ipython3",
   "version": "3.4.3"
  }
 },
 "nbformat": 4,
 "nbformat_minor": 2
}

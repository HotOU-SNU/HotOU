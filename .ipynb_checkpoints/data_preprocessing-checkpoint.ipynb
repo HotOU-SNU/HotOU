{
 "cells": [
  {
   "cell_type": "code",
   "execution_count": 6,
   "metadata": {
    "collapsed": false
   },
   "outputs": [],
   "source": [
    "import pickle\n",
    "import pandas as pd\n",
    "import warnings\n",
    "warnings.filterwarnings('ignore')\n",
    "\n",
    "fileList = {\"freeboard\":\"pickles/freeboard_db.pkl\", \"humordata\":\"pickles/humordata_6047_db.pkl\", \"star\":\"pickles/star_db.pkl\",\n",
    "           \"sisa\":\"pickles/sisa_db.pkl\", \"best\":\"pickles/humorbest_db.pkl\", \"bestofbest\":\"pickles/bestofbest_db.pkl\", \"love\":\"pickles/love_db.pkl\"}\n",
    "dfs = {}\n",
    "for board in fileList.keys():\n",
    "    with open(fileList[board],\"rb\") as f :\n",
    "        dfs[board] = pd.DataFrame.from_dict(pickle.load(f)).set_index('contentID')\n",
    "\n"
   ]
  },
  {
   "cell_type": "code",
   "execution_count": 8,
   "metadata": {
    "collapsed": false
   },
   "outputs": [
    {
     "name": "stdout",
     "output_type": "stream",
     "text": [
      "bestofbest: 5000 articles\n",
      "freeboard: 10000 articles\n",
      "humordata: 6047 articles\n",
      "best: 9457 articles\n",
      "star: 10000 articles\n",
      "love: 10000 articles\n",
      "sisa: 10000 articles\n"
     ]
    }
   ],
   "source": [
    "for board in fileList.keys():\n",
    "    print(\"{}: {} articles\".format(board, len(dfs[board].index)))"
   ]
  },
  {
   "cell_type": "code",
   "execution_count": 9,
   "metadata": {
    "collapsed": false,
    "scrolled": true
   },
   "outputs": [],
   "source": [
    "df1 = pd.concat([df for df in dfs.values()], axis=0)\n",
    "df1 = df1[df1['writerVisitingCount'].str.contains('-') == False]\n",
    "#remove duplicate articles\n",
    "df = df1.reset_index().drop_duplicates(subset='contentID', keep='first').set_index('contentID')"
   ]
  },
  {
   "cell_type": "code",
   "execution_count": 22,
   "metadata": {
    "collapsed": false
   },
   "outputs": [
    {
     "data": {
      "text/plain": [
       "writerName                                                                미니칸테\n",
       "writerSignInDate                                                    2016-04-12\n",
       "writerVisitingCount                                                        236\n",
       "recommendCount                                                              95\n",
       "viewCount                                                                 5060\n",
       "memoCount                                                                   52\n",
       "postTime                                                   2016/08/22 08:08:03\n",
       "normalPostCount                                                            112\n",
       "bestPostCount                                                               17\n",
       "BOBPostCount                                                                13\n",
       "board                                                                     sisa\n",
       "title                                                            오늘부터 ars투표 시작\n",
       "changjakOption                                                           False\n",
       "permOption                                                               False\n",
       "prohibitBestOption                                                       False\n",
       "prohibitBOBOption                                                        False\n",
       "prohibitBoninOption                                                      False\n",
       "prohibitOutsidePermOption                                                False\n",
       "imgCount                                                                     0\n",
       "videoCount                                                                   0\n",
       "youtubeCount                                                                 0\n",
       "textLineCount                                                               16\n",
       "bestTime                                                   2016-08-22 11:25:26\n",
       "BoBTime                                                    2016-08-22 13:04:16\n",
       "okTime                       [337.0, 499.0, 1138.0, 1491.0, 2545.0, 2940.0,...\n",
       "memoTime                     [2692.0, 11606.0, 12064.0, 12102.0, 12113.0, 1...\n",
       "Name: bestofbest_263233, dtype: object"
      ]
     },
     "execution_count": 22,
     "metadata": {},
     "output_type": "execute_result"
    }
   ],
   "source": [
    "df1.iloc[3]"
   ]
  },
  {
   "cell_type": "code",
   "execution_count": 16,
   "metadata": {
    "collapsed": false
   },
   "outputs": [],
   "source": []
  },
  {
   "cell_type": "code",
   "execution_count": 18,
   "metadata": {
    "collapsed": false
   },
   "outputs": [],
   "source": [
    "from datetime import datetime\n",
    "import operator\n",
    "# import matplotlib.pyplot as plt\n",
    "import numpy as np\n",
    "from sklearn import datasets, linear_model\n",
    "from scipy.stats.stats import pearsonr\n",
    "from operator import truediv\n",
    "from sklearn import preprocessing\n",
    "from sklearn import svm\n",
    "from sklearn.model_selection import train_test_split\n",
    "from sklearn.metrics import confusion_matrix\n",
    "\n",
    "Index = ['contentID', 'writerName', 'writerSignInDate', 'writerVisitingCount',\n",
    "       'recommendCount', 'viewCount', 'memoCount', 'postTime',\n",
    "       'normalPostCount', 'bestPostCount', 'BOBPostCount', 'board', 'title',\n",
    "       'changjakOption', 'permOption', 'prohibitBestOption',\n",
    "       'prohibitBOBOption', 'prohibitBoninOption', 'prohibitOutsidePermOption',\n",
    "       'imgCount', 'videoCount', 'youtubeCount', 'textLineCount', 'bestTime',\n",
    "       'BoBTime', 'okTime', 'memoTime', 'okIn3600s', 'bad', 'good', 'rcmd',\n",
    "       'memoIn3600s']\n",
    "\n",
    "# datatype 정리\n",
    "for col in ['writerVisitingCount', 'viewCount', 'memoCount', 'normalPostCount', 'bestPostCount', 'BOBPostCount']:\n",
    "    df[col] = pd.to_numeric(df[col]).copy()\n",
    "\n",
    "\n",
    "######### 새로운 feature 추가\n",
    "# 게시물 중 베오베 비율\n",
    "df['BOBratio'] = df.BOBPostCount / df.normalPostCount\n",
    "#  베오베 label\n",
    "df['isBOB'] = df.BoBTime.apply(lambda e: True if e != 0 else False)\n",
    "# 15분 이전의 추천과 댓글\n",
    "df['okIn900s'] = df.okTime.apply(lambda e : len(list(filter(lambda f: f<=300, e))))\n",
    "df['memoIn900s'] = df.memoTime.apply(lambda e : len(list(filter(lambda f: f<=900, e))))\n",
    "# 추천수 비추천수 분리\n",
    "df['bad'] = df.recommendCount.apply(lambda e: (e.split('/')[1]) if '/' in e else 0)\n",
    "df['good'] = df.recommendCount.apply(lambda e: (e.split('/')[0]) if '/' in e else e)\n",
    "df['rcmd'] = df.recommendCount.apply(lambda e: (e.split('/')[0]) if '/' not in e else int(e.split('/')[0]) - int(e.split('/')[1]))\n",
    "# df.drop('recommendCount', axis=1,inplace=True)\n",
    "# 시간대별로 나누는 과정 \n",
    "df['postHour'] = df.postTime.apply(lambda e: e.split(' ')[1].split(':')[0])\n",
    "df['timeZone'] = df.postHour.apply(lambda e: \"morning\" if int(e)>=3 and int(e)<9 else \"noon\" if int(e)>=9 and int(e)<15 else \"evening\" if int(e)>=15 and int(e)<21 else \"night\")\n",
    "df_timeZone = pd.get_dummies(df['timeZone'])\n",
    "df = pd.concat([df, df_timeZone,], axis=1,)\n",
    "df = pd.concat([df, pd.get_dummies(df['board'])], axis=1)\n",
    "\n",
    "######## 정규화 시키는 과정 scaler.fit(data).transform(data)로 정규화 \n",
    "scaler = preprocessing.StandardScaler()\n",
    "\n",
    "normalizing_cols = ['okIn900s', 'BOBratio', 'imgCount', 'youtubeCount', 'videoCount', 'writerVisitingCount', 'memoIn900s', \n",
    "                     'normalPostCount', 'bestPostCount', 'BOBPostCount', 'textLineCount',\n",
    "                    'viewCount', 'memoCount']\n",
    "integerize_cols = ['isBOB', 'changjakOption', 'permOption', 'prohibitBestOption', 'prohibitBOBOption', 'prohibitBoninOption', 'prohibitOutsidePermOption']\n",
    "\n",
    "for col in normalizing_cols:\n",
    "    df[col] =  scaler.fit(df[col]).transform(df[col])\n",
    "    \n",
    "for col in integerize_cols:\n",
    "    df[col] = df[col].apply(lambda e : 0 if e==False else 1)\n",
    "    \n",
    "    df = df.loc[:,~df.columns.duplicated()]"
   ]
  },
  {
   "cell_type": "code",
   "execution_count": 19,
   "metadata": {
    "collapsed": false
   },
   "outputs": [
    {
     "data": {
      "text/plain": [
       "Index(['bestofbest_234835', 'bestofbest_262917', 'bestofbest_275842',\n",
       "       'bestofbest_263233', 'bestofbest_246924', 'bestofbest_247789',\n",
       "       'bestofbest_256798', 'bestofbest_244639', 'bestofbest_230117',\n",
       "       'bestofbest_245808',\n",
       "       ...\n",
       "       'humordata_1655193', 'humordata_1655594', 'humordata_1661670',\n",
       "       'humordata_1585617', 'humordata_1610186', 'humordata_1657168',\n",
       "       'humordata_1620251', 'humordata_1549535', 'humordata_1570594',\n",
       "       'humordata_1491651'],\n",
       "      dtype='object', name='contentID', length=51659)"
      ]
     },
     "execution_count": 19,
     "metadata": {},
     "output_type": "execute_result"
    }
   ],
   "source": [
    "df.index"
   ]
  },
  {
   "cell_type": "code",
   "execution_count": 20,
   "metadata": {
    "collapsed": true
   },
   "outputs": [],
   "source": [
    "df.to_pickle('df_test.pkl')"
   ]
  },
  {
   "cell_type": "code",
   "execution_count": 54,
   "metadata": {
    "collapsed": false
   },
   "outputs": [],
   "source": [
    "from scipy.stats.stats import spearmanr\n",
    "\n",
    "memo_r = {}\n",
    "ok_r = {}\n",
    "for board in ['love','sisa','humordata','freeboard','star']:\n",
    "    rec = df[df.board==board].recommendCount.values\n",
    "    ok_l = []\n",
    "    memo_l = []\n",
    "    for time in [60, 300, 600, 900, 1200, 1500, 3600]:\n",
    "        okln =  df[df.board == board].okTime.apply(lambda e : len(list(filter(lambda f: f<=time, e))))\n",
    "        memoln = df[df.board == board].memoTime.apply(lambda e : len(list(filter(lambda f: f<=time, e))))\n",
    "        memo_l.append (spearmanr(memoln, rec)[0])\n",
    "        ok_l.append ( spearmanr(okln, rec)[0] )\n",
    "    memo_r[board] = memo_l\n",
    "    ok_r[board] = ok_l"
   ]
  },
  {
   "cell_type": "code",
   "execution_count": 81,
   "metadata": {
    "collapsed": false
   },
   "outputs": [
    {
     "data": {
      "image/png": "[encoded data removed]",
      "text/plain": [
       "<matplotlib.figure.Figure at 0x7faae19ac9b0>"
      ]
     },
     "metadata": {},
     "output_type": "display_data"
    }
   ],
   "source": [
    "import matplotlib.pyplot as plt\n",
    "%matplotlib inline  \n",
    "\n",
    "x = [0,1,2,3,4,5,6]\n",
    "f, (ax) = plt.subplots(nrows=1, ncols=1)\n",
    "for board in ['love','sisa','humordata','freeboard','star']:\n",
    "    ax.plot(x, ok_r[board], label=board)\n",
    "ax.set_xticklabels( [60, 300, 600, 900, 1200, 1500, 3600])\n",
    "ax.set_xlabel('Seconds')\n",
    "ax.set_ylabel('Spearman_r')\n",
    "ax.set_title('Recommends')\n",
    "# Now add the legend with some customizations.\n",
    "legend = ax.legend(loc='lower center', shadow=True)\n",
    "\n",
    "# The frame is matplotlib.patches.Rectangle instance surrounding the legend.\n",
    "frame = legend.get_frame()\n",
    "frame.set_facecolor('0.90')\n",
    "\n"
   ]
  },
  {
   "cell_type": "code",
   "execution_count": 89,
   "metadata": {
    "collapsed": false
   },
   "outputs": [],
   "source": [
    "img_count = {}\n",
    "for board in ['love','sisa','humordata','freeboard','star']:\n",
    "    rec = df[df.board==board].recommendCount.values\n",
    "    img_count[board] = spearmanr(rec, df[df.board ==board].imgCount.values)[0]\n",
    "    "
   ]
  },
  {
   "cell_type": "code",
   "execution_count": 90,
   "metadata": {
    "collapsed": false
   },
   "outputs": [
    {
     "data": {
      "text/plain": [
       "{'freeboard': 0.11046975343423944,\n",
       " 'humordata': 0.051880786701622571,\n",
       " 'love': 0.13258591589172244,\n",
       " 'sisa': 0.15298110335422743,\n",
       " 'star': 0.06602293662624116}"
      ]
     },
     "execution_count": 90,
     "metadata": {},
     "output_type": "execute_result"
    }
   ],
   "source": [
    "img_count"
   ]
  },
  {
   "cell_type": "code",
   "execution_count": 115,
   "metadata": {
    "collapsed": false
   },
   "outputs": [
    {
     "data": {
      "image/png": "[encoded data removed]",
      "text/plain": [
       "<matplotlib.figure.Figure at 0x7fab5a44f4a8>"
      ]
     },
     "metadata": {},
     "output_type": "display_data"
    }
   ],
   "source": [
    "position = np.arange(0, 5)\n",
    "# (['love','sisa','humordata','freeboard','star']\n",
    "bar = plt.bar(position, list(img_count.values()), align='center', alpha=0.6)\n",
    "plt.xticks(position,['love','sisa','humordata','freeboard','star'])\n",
    "plt.ylabel(\"Spearman_r\")\n",
    "plt.xlabel(\"Board\")\n",
    "plt.alpha = 0.3\n",
    "plt.show()"
   ]
  },
  {
   "cell_type": "code",
   "execution_count": 103,
   "metadata": {
    "collapsed": false
   },
   "outputs": [
    {
     "data": {
      "text/plain": [
       "[0.11046975343423944,\n",
       " 0.13258591589172244,\n",
       " 0.051880786701622571,\n",
       " 0.15298110335422743,\n",
       " 0.06602293662624116]"
      ]
     },
     "execution_count": 103,
     "metadata": {},
     "output_type": "execute_result"
    }
   ],
   "source": [
    "list(img_count.values())"
   ]
  },
  {
   "cell_type": "code",
   "execution_count": null,
   "metadata": {
    "collapsed": true
   },
   "outputs": [],
   "source": []
  }
 ],
 "metadata": {
  "kernelspec": {
   "display_name": "Python 3",
   "language": "python",
   "name": "python3"
  },
  "language_info": {
   "codemirror_mode": {
    "name": "ipython",
    "version": 3
   },
   "file_extension": ".py",
   "mimetype": "text/x-python",
   "name": "python",
   "nbconvert_exporter": "python",
   "pygments_lexer": "ipython3",
   "version": "3.4.0"
  }
 },
 "nbformat": 4,
 "nbformat_minor": 2
}

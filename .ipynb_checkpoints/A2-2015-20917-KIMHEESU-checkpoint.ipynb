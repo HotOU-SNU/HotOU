{
 "cells": [
  {
   "cell_type": "markdown",
   "metadata": {},
   "source": [
    "# Week 2 - Exercise\n",
    "\n",
    "* 제출 방법: ETL (다음 주 일요일 9/18 자정까지)\n",
    "* 파일 이름: W2ex-학번-이름(영어로).iphynb 형식으로 (예: W2ex-13403-999-jiyoon.iphynb)"
   ]
  },
  {
   "cell_type": "markdown",
   "metadata": {},
   "source": [
    "#1. 다음의 프로그램을 작성하시오. (input()함수를 사용할 것)\n",
    "\n",
    "> 안녕하세요. 성을 입력해 주세요:  (성 입력의 예: 홍)\n",
    ">\n",
    "> 이름을 입력해 주세요:  (이름 입력의 예: 길동)\n",
    ">\n",
    "> 홍길동님의 나이는 몇살인가요: (나이 입력의 예: 30)\n",
    ">\n",
    "> 홍길동님은 지금까지 모두 ** xxxx **초를 살아왔군요.  \n",
    ">\n",
    "> 지금까지 이용해 주셔서 감사합니다. 홍길동님.\n",
    "\n",
    "(참고) 입력받은 나이는 숫자(int)가 아니라 문자열(string)임. 윤년 계산 등은 무시할 것."
   ]
  },
  {
   "cell_type": "code",
   "execution_count": null,
   "metadata": {
    "collapsed": false
   },
   "outputs": [],
   "source": [
    "# 여기에 코드를 입력하세요."
   ]
  },
  {
   "cell_type": "markdown",
   "metadata": {},
   "source": [
    "#2. 다음을 계산하는 메소드를 만들고 계산 예를 적으시오.\n",
    "\n",
    "> 섭씨 <-> 화씨 변환 \n",
    "\n",
    "> 인치 <-> 센치 변환\n",
    "\n",
    "출력의 예: \n",
    "\n",
    "> 섭씨 oo도는 화씨로 oo도 입니다.\n",
    "\n",
    "> oo인치는 oo센티미터 입니다.\n",
    "\n",
    "(참고) round() 함수를 사용해 보자: round() 함수는 지정한 소수점에서 반올림하여 결과를 표시한다.\n",
    "\n",
    "> round(3.954839283, 3) # 소수점 3째 자리에서 반올림\n",
    "\n",
    "> 3.955 "
   ]
  },
  {
   "cell_type": "code",
   "execution_count": null,
   "metadata": {
    "collapsed": false
   },
   "outputs": [],
   "source": [
    "# 여기에 코드를 입력하세요."
   ]
  },
  {
   "cell_type": "markdown",
   "metadata": {},
   "source": [
    "#3. 다음을 출력하는 프로그램을 작성하시오.\n",
    "\n",
    "> 오늘은 oooo년 o월 o일, 크리스마스까지는 oo일 이나 남았네. 이 수업도 이제 oo번 밖에 안남았구나!"
   ]
  },
  {
   "cell_type": "code",
   "execution_count": null,
   "metadata": {
    "collapsed": false
   },
   "outputs": [],
   "source": [
    "# 여기에 코드를 입력하세요."
   ]
  }
 ],
 "metadata": {
  "kernelspec": {
   "display_name": "Python 3",
   "language": "python",
   "name": "python3"
  },
  "language_info": {
   "codemirror_mode": {
    "name": "ipython",
    "version": 3
   },
   "file_extension": ".py",
   "mimetype": "text/x-python",
   "name": "python",
   "nbconvert_exporter": "python",
   "pygments_lexer": "ipython3",
   "version": "3.5.1"
  }
 },
 "nbformat": 4,
 "nbformat_minor": 1
}

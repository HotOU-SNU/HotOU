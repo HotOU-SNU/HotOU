{
 "cells": [
  {
   "cell_type": "markdown",
   "metadata": {},
   "source": [
    "# Week 2 - Exercise\n",
    "\n",
    "* 제출 방법: ETL (다음 주 일요일 9/18 자정까지)\n",
    "* 파일 이름: W2ex-학번-이름(영어로).iphynb 형식으로 (예: W2ex-13403-999-jiyoon.iphynb)"
   ]
  },
  {
   "cell_type": "markdown",
   "metadata": {},
   "source": [
    "#1. 다음의 프로그램을 작성하시오. (input()함수를 사용할 것)\n",
    "\n",
    "> 안녕하세요. 성을 입력해 주세요:  (성 입력의 예: 홍)\n",
    ">\n",
    "> 이름을 입력해 주세요:  (이름 입력의 예: 길동)\n",
    ">\n",
    "> 홍길동님의 나이는 몇살인가요: (나이 입력의 예: 30)\n",
    ">\n",
    "> 홍길동님은 지금까지 모두 ** xxxx **초를 살아왔군요.  \n",
    ">\n",
    "> 지금까지 이용해 주셔서 감사합니다. 홍길동님.\n",
    "\n",
    "(참고) 입력받은 나이는 숫자(int)가 아니라 문자열(string)임. 윤년 계산 등은 무시할 것."
   ]
  },
  {
   "cell_type": "code",
   "execution_count": 5,
   "metadata": {
    "collapsed": false
   },
   "outputs": [
    {
     "name": "stdout",
     "output_type": "stream",
     "text": [
      "안녕하세요. 성을 입력해 주세요: \n",
      "김\n",
      "이름을 입력해 주세요:  \n",
      "희수\n",
      "김희수님의 나이는 몇살인가요: \n",
      "28\n",
      "김희수님은 지금까지 모두 883008000 초를 살아왔군요.\n"
     ]
    }
   ],
   "source": [
    "print(\"안녕하세요. 성을 입력해 주세요: \")\n",
    "last = input()\n",
    "print(\"이름을 입력해 주세요:  \")\n",
    "first= input()\n",
    "print(\"%s님의 나이는 몇살인가요: \"%(last+first))\n",
    "age = input()\n",
    "print(\"%s님은 지금까지 모두 %d 초를 살아왔군요.\"%(last+first, int(age)*365*24*60*60))\n"
   ]
  },
  {
   "cell_type": "markdown",
   "metadata": {},
   "source": [
    "#2. 다음을 계산하는 메소드를 만들고 계산 예를 적으시오.\n",
    "\n",
    "> 섭씨 <-> 화씨 변환 \n",
    "\n",
    "> 인치 <-> 센치 변환\n",
    "\n",
    "출력의 예: \n",
    "\n",
    "> 섭씨 oo도는 화씨로 oo도 입니다.\n",
    "\n",
    "> oo인치는 oo센티미터 입니다.\n",
    "\n",
    "(참고) round() 함수를 사용해 보자: round() 함수는 지정한 소수점에서 반올림하여 결과를 표시한다.\n",
    "\n",
    "> round(3.954839283, 3) # 소수점 3째 자리에서 반올림\n",
    "\n",
    "> 3.955 "
   ]
  },
  {
   "cell_type": "code",
   "execution_count": 23,
   "metadata": {
    "collapsed": false
   },
   "outputs": [
    {
     "name": "stdout",
     "output_type": "stream",
     "text": [
      "섭씨 30도는 화씨로 86도 입니다.\n",
      "100인치는 254센티미터 입니다.\n"
     ]
    }
   ],
   "source": [
    "# (섭씨온도 × 1.8) + 32 = 화씨온도\n",
    "def ce2fr (ce):\n",
    "    return (ce*1.8) + 32\n",
    "\n",
    "def inch2centi (inch):\n",
    "    return inch * 2.54\n",
    "\n",
    "ce = 30\n",
    "print(\"섭씨 %d도는 화씨로 %d도 입니다.\"%(ce, ce2fr(ce)))\n",
    "inch = 100\n",
    "print(\"%d인치는 %d센티미터 입니다.\"%(inch, inch2centi(inch)))"
   ]
  },
  {
   "cell_type": "markdown",
   "metadata": {},
   "source": [
    "#3. 다음을 출력하는 프로그램을 작성하시오.\n",
    "\n",
    "> 오늘은 oooo년 o월 o일, 크리스마스까지는 oo일 이나 남았네. 이 수업도 이제 oo번 밖에 안남았구나!"
   ]
  },
  {
   "cell_type": "code",
   "execution_count": 20,
   "metadata": {
    "collapsed": false
   },
   "outputs": [
    {
     "name": "stdout",
     "output_type": "stream",
     "text": [
      "오늘은 2016년 12월 25일, 크리스마스까지는 -1일 이나 남았네. 이 수업도 이제 0번 밖에 안남았구나!\n"
     ]
    }
   ],
   "source": [
    "from datetime import datetime\n",
    "now = datetime.today()\n",
    "chrismas_dday = (datetime(2016,12,25) - now).days\n",
    "print(\"오늘은 %d년 %d월 %d일, 크리스마스까지는 %d일 이나 남았네. 이 수업도 이제 %d번 밖에 안남았구나!\" %(now.year, now.month, now.day, chrismas_dday, chrismas_dday/7))"
   ]
  }
 ],
 "metadata": {
  "kernelspec": {
   "display_name": "Python 3",
   "language": "python",
   "name": "python3"
  },
  "language_info": {
   "codemirror_mode": {
    "name": "ipython",
    "version": 3
   },
   "file_extension": ".py",
   "mimetype": "text/x-python",
   "name": "python",
   "nbconvert_exporter": "python",
   "pygments_lexer": "ipython3",
   "version": "3.4.0"
  }
 },
 "nbformat": 4,
 "nbformat_minor": 1
}

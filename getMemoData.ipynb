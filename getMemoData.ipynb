{
 "cells": [
  {
   "cell_type": "code",
   "execution_count": 106,
   "metadata": {
    "collapsed": false
   },
   "outputs": [],
   "source": [
    "import re\n",
    "import json\n",
    "def getMemos(url):\n",
    "    hdr = {'User-Agent':'Mozilla/5.0'}\n",
    "    req = urllib.request.Request(rand_url,headers=hdr)\n",
    "    doc = \"\"\n",
    "    with urllib.request.urlopen(req) as url:\n",
    "        doc = url.read()\n",
    "    article_soup = BeautifulSoup(doc, \"html.parser\")\n",
    "\n",
    "    script = article_soup.find_all(\"script\")\n",
    "    p = re.compile('parent_table = \".*?\"')\n",
    "    p = p.search(script[0].text)\n",
    "    parent_table = script[0].text[p.start():p.end()]\n",
    "    parent_table = parent_table[16:-1]\n",
    "\n",
    "    p = re.compile('parent_id = \".*?\"')\n",
    "    p = p.search(script[0].text)\n",
    "    parent_id = script[0].text[p.start():p.end()]\n",
    "    parent_id = parent_id[13:-1]\n",
    "    memo_url = \"/board/ajax_memo_list.php?parent_table=\" + parent_table + \"&parent_id=\" + parent_id;\n",
    "    memo_url = 'http://www.todayhumor.co.kr' + memo_url\n",
    "    print(memo_url)\n",
    "\n",
    "    req = urllib.request.Request(memo_url,headers=hdr)\n",
    "    with urllib.request.urlopen(req) as url:\n",
    "        doc = url.read()\n",
    "\n",
    "    memo_soup =  BeautifulSoup(doc, \"html.parser\")\n",
    "    return json.loads(memo_soup.text)['memos']\n"
   ]
  },
  {
   "cell_type": "code",
   "execution_count": 107,
   "metadata": {
    "collapsed": false
   },
   "outputs": [
    {
     "name": "stdout",
     "output_type": "stream",
     "text": [
      "http://www.todayhumor.co.kr/board/ajax_memo_list.php?parent_table=humordata&parent_id=1690412\n"
     ]
    }
   ],
   "source": [
    "from bs4 import BeautifulSoup\n",
    "import urllib.request\n",
    "import random\n",
    "\n",
    "## make random word URL and soup\n",
    "rand_url = \"http://www.todayhumor.co.kr/board/view.php?table=bestofbest&no=287215&s_no=287215&page=1\"\n",
    "memos = getMemos(rand_url)\n",
    "\n",
    "for memo in memos:\n",
    "    if 'MOVE_HUMORBEST' in memo['memo']:\n",
    "        bestTime = memo['date']\n",
    "    elif 'MOVE_BESTOFBEST' in memo['memo']:\n",
    "        bObTime = memo['date']"
   ]
  },
  {
   "cell_type": "code",
   "execution_count": 109,
   "metadata": {
    "collapsed": false
   },
   "outputs": [
    {
     "data": {
      "text/plain": [
       "'2016-12-05 14:36:07'"
      ]
     },
     "execution_count": 109,
     "metadata": {},
     "output_type": "execute_result"
    }
   ],
   "source": [
    "bestTime"
   ]
  },
  {
   "cell_type": "code",
   "execution_count": null,
   "metadata": {
    "collapsed": true
   },
   "outputs": [],
   "source": []
  }
 ],
 "metadata": {
  "kernelspec": {
   "display_name": "Python 3",
   "language": "python",
   "name": "python3"
  },
  "language_info": {
   "codemirror_mode": {
    "name": "ipython",
    "version": 3
   },
   "file_extension": ".py",
   "mimetype": "text/x-python",
   "name": "python",
   "nbconvert_exporter": "python",
   "pygments_lexer": "ipython3",
   "version": "3.4.3"
  }
 },
 "nbformat": 4,
 "nbformat_minor": 2
}
